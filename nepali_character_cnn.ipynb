{
 "cells": [
  {
   "cell_type": "code",
   "execution_count": 9,
   "metadata": {},
   "outputs": [],
   "source": [
    "from tensorflow.keras.models import Sequential,load_model\n",
    "from tensorflow.keras.layers import Dense,Conv2D,Flatten,MaxPool2D,Dropout\n",
    "from tensorflow.keras import optimizers\n"
   ]
  },
  {
   "cell_type": "code",
   "execution_count": 10,
   "metadata": {},
   "outputs": [],
   "source": [
    "model=Sequential()\n",
    "model.add(Conv2D(filters=32,kernel_size=(2,2),input_shape=(32,32,1),activation='relu'))\n",
    "model.add(Conv2D(filters=64,kernel_size=(2,2),activation='relu'))\n",
    "model.add(Flatten())\n",
    "model.add(Dense(120,activation='relu')) #what is this and next linie meaning??\n",
    "model.add(Dense(64,activation='relu'))#??\n",
    "model.add(Dense(46,activation='softmax')) # this i understood"
   ]
  },
  {
   "cell_type": "code",
   "execution_count": 11,
   "metadata": {},
   "outputs": [
    {
     "name": "stdout",
     "output_type": "stream",
     "text": [
      "Model: \"sequential\"\n",
      "_________________________________________________________________\n",
      "Layer (type)                 Output Shape              Param #   \n",
      "=================================================================\n",
      "conv2d (Conv2D)              (None, 31, 31, 32)        160       \n",
      "_________________________________________________________________\n",
      "conv2d_1 (Conv2D)            (None, 30, 30, 64)        8256      \n",
      "_________________________________________________________________\n",
      "flatten (Flatten)            (None, 57600)             0         \n",
      "_________________________________________________________________\n",
      "dense (Dense)                (None, 120)               6912120   \n",
      "_________________________________________________________________\n",
      "dense_1 (Dense)              (None, 64)                7744      \n",
      "_________________________________________________________________\n",
      "dense_2 (Dense)              (None, 46)                2990      \n",
      "=================================================================\n",
      "Total params: 6,931,270\n",
      "Trainable params: 6,931,270\n",
      "Non-trainable params: 0\n",
      "_________________________________________________________________\n"
     ]
    }
   ],
   "source": [
    "model.summary()"
   ]
  },
  {
   "cell_type": "code",
   "execution_count": 12,
   "metadata": {},
   "outputs": [],
   "source": [
    "model.compile(loss='categorical_crossentropy',optimizers='adam',metrics=['accuracy'])"
   ]
  },
  {
   "cell_type": "code",
   "execution_count": 13,
   "metadata": {},
   "outputs": [],
   "source": [
    "from tensorflow.keras.preprocessing.image import ImageDataGenerator\n",
    "img_gen=ImageDataGenerator(rescale=1/255)"
   ]
  },
  {
   "cell_type": "code",
   "execution_count": 14,
   "metadata": {},
   "outputs": [
    {
     "name": "stdout",
     "output_type": "stream",
     "text": [
      "Found 78200 images belonging to 46 classes.\n"
     ]
    }
   ],
   "source": [
    "train_img_gen=img_gen.flow_from_directory('Downloads/ssfd/DevanagariHandwrittenCharacterDataset/Train',target_size=[32,32],\n",
    "                                         batch_size=32,\n",
    "                                         class_mode='categorical',\n",
    "                                         color_mode='grayscale')"
   ]
  },
  {
   "cell_type": "code",
   "execution_count": 15,
   "metadata": {},
   "outputs": [
    {
     "name": "stdout",
     "output_type": "stream",
     "text": [
      "Found 13800 images belonging to 46 classes.\n"
     ]
    }
   ],
   "source": [
    "validate_img_gen=img_gen.flow_from_directory('Downloads/ssfd/DevanagariHandwrittenCharacterDataset/Test/'\n",
    "                                            ,target_size=(32,32),\n",
    "                                            batch_size=32,\n",
    "                                            class_mode='categorical',\n",
    "                                            color_mode='grayscale')\n"
   ]
  },
  {
   "cell_type": "code",
   "execution_count": null,
   "metadata": {},
   "outputs": [],
   "source": []
  },
  {
   "cell_type": "code",
   "execution_count": 16,
   "metadata": {},
   "outputs": [
    {
     "data": {
      "text/plain": [
       "{'character_10_yna': 0,\n",
       " 'character_11_taamatar': 1,\n",
       " 'character_12_thaa': 2,\n",
       " 'character_13_daa': 3,\n",
       " 'character_14_dhaa': 4,\n",
       " 'character_15_adna': 5,\n",
       " 'character_16_tabala': 6,\n",
       " 'character_17_tha': 7,\n",
       " 'character_18_da': 8,\n",
       " 'character_19_dha': 9,\n",
       " 'character_1_ka': 10,\n",
       " 'character_20_na': 11,\n",
       " 'character_21_pa': 12,\n",
       " 'character_22_pha': 13,\n",
       " 'character_23_ba': 14,\n",
       " 'character_24_bha': 15,\n",
       " 'character_25_ma': 16,\n",
       " 'character_26_yaw': 17,\n",
       " 'character_27_ra': 18,\n",
       " 'character_28_la': 19,\n",
       " 'character_29_waw': 20,\n",
       " 'character_2_kha': 21,\n",
       " 'character_30_motosaw': 22,\n",
       " 'character_31_petchiryakha': 23,\n",
       " 'character_32_patalosaw': 24,\n",
       " 'character_33_ha': 25,\n",
       " 'character_34_chhya': 26,\n",
       " 'character_35_tra': 27,\n",
       " 'character_36_gya': 28,\n",
       " 'character_3_ga': 29,\n",
       " 'character_4_gha': 30,\n",
       " 'character_5_kna': 31,\n",
       " 'character_6_cha': 32,\n",
       " 'character_7_chha': 33,\n",
       " 'character_8_ja': 34,\n",
       " 'character_9_jha': 35,\n",
       " 'digit_0': 36,\n",
       " 'digit_1': 37,\n",
       " 'digit_2': 38,\n",
       " 'digit_3': 39,\n",
       " 'digit_4': 40,\n",
       " 'digit_5': 41,\n",
       " 'digit_6': 42,\n",
       " 'digit_7': 43,\n",
       " 'digit_8': 44,\n",
       " 'digit_9': 45}"
      ]
     },
     "execution_count": 16,
     "metadata": {},
     "output_type": "execute_result"
    }
   ],
   "source": [
    "train_img_gen.class_indices"
   ]
  },
  {
   "cell_type": "code",
   "execution_count": null,
   "metadata": {},
   "outputs": [],
   "source": [
    "result=model.fit_generator(train_img_gen,\n",
    "                          validation_data=validate_img_gen,\n",
    "                          validation_steps=12,epochs=3,\n",
    "                          steps_per_epoch=1500)"
   ]
  },
  {
   "cell_type": "code",
   "execution_count": null,
   "metadata": {},
   "outputs": [],
   "source": [
    "model.save('dev_accuracy.h5')\n",
    "model_json=model.to_json()\n",
    "with open('dev_accuracy_model.json','w') as json_file:\n",
    "    json_file.write(model_json)"
   ]
  },
  {
   "cell_type": "code",
   "execution_count": null,
   "metadata": {},
   "outputs": [],
   "source": []
  },
  {
   "cell_type": "code",
   "execution_count": null,
   "metadata": {},
   "outputs": [],
   "source": []
  },
  {
   "cell_type": "code",
   "execution_count": 6,
   "metadata": {},
   "outputs": [
    {
     "name": "stdout",
     "output_type": "stream",
     "text": [
      "(32, 32)\n",
      "(1, 32, 32, 1)\n"
     ]
    },
    {
     "data": {
      "text/plain": [
       "<matplotlib.image.AxesImage at 0x7f2dba95e910>"
      ]
     },
     "execution_count": 6,
     "metadata": {},
     "output_type": "execute_result"
    },
    {
     "data": {
      "image/png": "[encoded data removed]",
      "text/plain": [
       "<Figure size 432x288 with 1 Axes>"
      ]
     },
     "metadata": {
      "needs_background": "light"
     },
     "output_type": "display_data"
    }
   ],
   "source": [
    "import cv2\n",
    "import numpy as np\n",
    "a=cv2.imread('2218.png.png',0)\n",
    "b=cv2.resize(a,(32,32))\n",
    "print(a.shape)\n",
    "a=np.expand_dims(a,axis=0)\n",
    "test_img=np.expand_dims(a,axis=0)\n",
    "test_img=test_img.transpose((1,2,3,0))/255\n",
    "print(test_img.shape)\n"
   ]
  },
  {
   "cell_type": "code",
   "execution_count": null,
   "metadata": {},
   "outputs": [],
   "source": [
    "nep"
   ]
  },
  {
   "cell_type": "code",
   "execution_count": 7,
   "metadata": {},
   "outputs": [
    {
     "ename": "NameError",
     "evalue": "name 'model' is not defined",
     "output_type": "error",
     "traceback": [
      "\u001b[0;31m---------------------------------------------------------------------------\u001b[0m",
      "\u001b[0;31mNameError\u001b[0m                                 Traceback (most recent call last)",
      "\u001b[0;32m<ipython-input-7-9f5c04b2d611>\u001b[0m in \u001b[0;36m<module>\u001b[0;34m\u001b[0m\n\u001b[0;32m----> 1\u001b[0;31m \u001b[0ma\u001b[0m\u001b[0;34m=\u001b[0m\u001b[0mmodel\u001b[0m\u001b[0;34m.\u001b[0m\u001b[0mpredict_classes\u001b[0m\u001b[0;34m(\u001b[0m\u001b[0mtest_img\u001b[0m\u001b[0;34m)\u001b[0m\u001b[0;34m\u001b[0m\u001b[0;34m\u001b[0m\u001b[0m\n\u001b[0m\u001b[1;32m      2\u001b[0m \u001b[0mlist\u001b[0m\u001b[0;34m(\u001b[0m\u001b[0ma\u001b[0m\u001b[0;34m)\u001b[0m\u001b[0;34m\u001b[0m\u001b[0;34m\u001b[0m\u001b[0m\n",
      "\u001b[0;31mNameError\u001b[0m: name 'model' is not defined"
     ]
    }
   ],
   "source": [
    "a=model.predict_classes(test_img)\n",
    "list(a)"
   ]
  },
  {
   "cell_type": "code",
   "execution_count": 51,
   "metadata": {},
   "outputs": [
    {
     "data": {
      "text/plain": [
       "{'क': 0,\n",
       " 'ख': 1,\n",
       " 'ग': 2,\n",
       " 'घ': 3,\n",
       " 'ङ': 4,\n",
       " 'च': 5,\n",
       " 'छ': 6,\n",
       " 'ज': 7,\n",
       " 'झ': 8,\n",
       " 'ञ': 9,\n",
       " 'ट': 10,\n",
       " 'ठ': 11,\n",
       " 'ड': 12,\n",
       " 'ढ': 13,\n",
       " 'ण': 14,\n",
       " 'त': 15,\n",
       " 'थ': 16,\n",
       " 'द': 17,\n",
       " 'ध': 18,\n",
       " 'न': 19,\n",
       " 'प': 20,\n",
       " 'फ': 21,\n",
       " 'ब': 22,\n",
       " 'भ': 23,\n",
       " 'म': 24,\n",
       " 'य': 25,\n",
       " 'र': 26,\n",
       " 'ल': 27,\n",
       " 'व': 29,\n",
       " 'श': 30,\n",
       " 'ष': 31,\n",
       " 'स': 32,\n",
       " 'ह': 33,\n",
       " 'क्ष': 34,\n",
       " 'त्र': 35,\n",
       " 'ज्ञ': 36}"
      ]
     },
     "execution_count": 51,
     "metadata": {},
     "output_type": "execute_result"
    }
   ],
   "source": [
    "\n",
    "{'क': 0,\n",
    " 'ख': 1,\n",
    " 'ग': 2,\n",
    " 'घ': 3,\n",
    " 'ङ': 4,\n",
    " 'च': 5,\n",
    " 'छ': 6,\n",
    " 'ज': 7,\n",
    " 'झ': 8,\n",
    " 'ञ': 9,\n",
    " 'ट': 10,\n",
    " 'ठ': 11,\n",
    " 'ड': 12,\n",
    " 'ढ': 13,\n",
    " 'ण': 14,\n",
    " 'त': 15,\n",
    " 'थ': 16,\n",
    " 'द': 17,\n",
    " 'ध': 18,\n",
    " 'न': 19,\n",
    " 'प': 20,\n",
    " 'फ': 21,\n",
    " 'ब': 22,\n",
    " 'भ': 23,\n",
    " 'म': 24,\n",
    " 'य': 25,\n",
    " 'र': 26,\n",
    " 'ल': 27,\n",
    " 'व': 29,\n",
    " 'श': 30,\n",
    " 'ष': 31,\n",
    " 'स': 32,\n",
    " 'ह': 33,\n",
    "'क्ष':34,\n",
    "'त्र':35,\n",
    "'ज्ञ':36,\n",
    "}\n"
   ]
  },
  {
   "cell_type": "code",
   "execution_count": 56,
   "metadata": {},
   "outputs": [],
   "source": [
    "newq={}\n",
    "for k,v in nep.items():\n",
    "    newq[v]=k"
   ]
  },
  {
   "cell_type": "code",
   "execution_count": 57,
   "metadata": {},
   "outputs": [
    {
     "data": {
      "text/plain": [
       "{0: 'क',\n",
       " 1: 'ख',\n",
       " 2: 'ग',\n",
       " 3: 'घ',\n",
       " 4: 'ङ',\n",
       " 5: 'च',\n",
       " 6: 'छ',\n",
       " 7: 'ज',\n",
       " 8: 'झ',\n",
       " 9: 'ञ',\n",
       " 10: 'ट',\n",
       " 11: 'ठ',\n",
       " 12: 'ड',\n",
       " 13: 'ढ',\n",
       " 14: 'ण',\n",
       " 15: 'त',\n",
       " 16: 'थ',\n",
       " 17: 'द',\n",
       " 18: 'ध',\n",
       " 19: 'न',\n",
       " 20: 'प',\n",
       " 21: 'फ',\n",
       " 22: 'ब',\n",
       " 23: 'भ',\n",
       " 24: 'म',\n",
       " 25: 'य',\n",
       " 26: 'र',\n",
       " 27: 'ल',\n",
       " 29: 'व',\n",
       " 30: 'श',\n",
       " 31: 'ष',\n",
       " 32: 'स',\n",
       " 33: 'ह',\n",
       " 34: 'क्ष',\n",
       " 35: 'त्र',\n",
       " 36: 'ज्ञ',\n",
       " 37: '०',\n",
       " 38: '१',\n",
       " 39: '२',\n",
       " 40: '३',\n",
       " 41: '४',\n",
       " 42: '५',\n",
       " 43: '६',\n",
       " 44: '७',\n",
       " 45: '८'}"
      ]
     },
     "execution_count": 57,
     "metadata": {},
     "output_type": "execute_result"
    }
   ],
   "source": [
    "newq"
   ]
  },
  {
   "cell_type": "code",
   "execution_count": null,
   "metadata": {},
   "outputs": [],
   "source": []
  },
  {
   "cell_type": "code",
   "execution_count": null,
   "metadata": {},
   "outputs": [],
   "source": []
  },
  {
   "cell_type": "code",
   "execution_count": null,
   "metadata": {},
   "outputs": [],
   "source": []
  },
  {
   "cell_type": "code",
   "execution_count": null,
   "metadata": {},
   "outputs": [],
   "source": []
  },
  {
   "cell_type": "code",
   "execution_count": null,
   "metadata": {},
   "outputs": [],
   "source": []
  },
  {
   "cell_type": "code",
   "execution_count": null,
   "metadata": {},
   "outputs": [],
   "source": []
  },
  {
   "cell_type": "code",
   "execution_count": null,
   "metadata": {},
   "outputs": [],
   "source": []
  },
  {
   "cell_type": "code",
   "execution_count": null,
   "metadata": {},
   "outputs": [],
   "source": []
  },
  {
   "cell_type": "code",
   "execution_count": null,
   "metadata": {},
   "outputs": [],
   "source": []
  },
  {
   "cell_type": "code",
   "execution_count": null,
   "metadata": {},
   "outputs": [],
   "source": []
  },
  {
   "cell_type": "code",
   "execution_count": null,
   "metadata": {},
   "outputs": [],
   "source": []
  }
 ],
 "metadata": {
  "kernelspec": {
   "display_name": "Python 3",
   "language": "python",
   "name": "python3"
  },
  "language_info": {
   "codemirror_mode": {
    "name": "ipython",
    "version": 3
   },
   "file_extension": ".py",
   "mimetype": "text/x-python",
   "name": "python",
   "nbconvert_exporter": "python",
   "pygments_lexer": "ipython3",
   "version": "3.7.5"
  }
 },
 "nbformat": 4,
 "nbformat_minor": 2
}
